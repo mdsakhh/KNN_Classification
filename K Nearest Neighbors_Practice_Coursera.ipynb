{
 "cells": [
  {
   "cell_type": "markdown",
   "id": "97b5e460",
   "metadata": {},
   "source": [
    "## Importing the python libraries"
   ]
  },
  {
   "cell_type": "code",
   "execution_count": 106,
   "id": "510490d9",
   "metadata": {},
   "outputs": [],
   "source": [
    "import numpy as np, pandas as pd, matplotlib.pyplot as plt,os,sys,seaborn as sns"
   ]
  },
  {
   "cell_type": "markdown",
   "id": "fee14e52",
   "metadata": {},
   "source": [
    "## Uploading the customer churn data set"
   ]
  },
  {
   "cell_type": "code",
   "execution_count": 2,
   "id": "fc26e71a",
   "metadata": {},
   "outputs": [],
   "source": [
    "df = pd.read_csv(\"https://cf-courses-data.s3.us.cloud-object-storage.appdomain.cloud/IBM-ML241EN-SkillsNetwork/labs/datasets/churndata_processed.csv\")"
   ]
  },
  {
   "cell_type": "code",
   "execution_count": 3,
   "id": "6434ecad",
   "metadata": {},
   "outputs": [
    {
     "data": {
      "text/html": [
       "<div>\n",
       "<style scoped>\n",
       "    .dataframe tbody tr th:only-of-type {\n",
       "        vertical-align: middle;\n",
       "    }\n",
       "\n",
       "    .dataframe tbody tr th {\n",
       "        vertical-align: top;\n",
       "    }\n",
       "\n",
       "    .dataframe thead th {\n",
       "        text-align: right;\n",
       "    }\n",
       "</style>\n",
       "<table border=\"1\" class=\"dataframe\">\n",
       "  <thead>\n",
       "    <tr style=\"text-align: right;\">\n",
       "      <th></th>\n",
       "      <th>months</th>\n",
       "      <th>multiple</th>\n",
       "      <th>gb_mon</th>\n",
       "      <th>security</th>\n",
       "      <th>backup</th>\n",
       "      <th>protection</th>\n",
       "      <th>support</th>\n",
       "      <th>unlimited</th>\n",
       "      <th>contract</th>\n",
       "      <th>paperless</th>\n",
       "      <th>...</th>\n",
       "      <th>payment_Credit Card</th>\n",
       "      <th>payment_Mailed Check</th>\n",
       "      <th>internet_type_DSL</th>\n",
       "      <th>internet_type_Fiber Optic</th>\n",
       "      <th>internet_type_None</th>\n",
       "      <th>offer_Offer A</th>\n",
       "      <th>offer_Offer B</th>\n",
       "      <th>offer_Offer C</th>\n",
       "      <th>offer_Offer D</th>\n",
       "      <th>offer_Offer E</th>\n",
       "    </tr>\n",
       "  </thead>\n",
       "  <tbody>\n",
       "    <tr>\n",
       "      <th>0</th>\n",
       "      <td>0.00</td>\n",
       "      <td>0</td>\n",
       "      <td>0.094118</td>\n",
       "      <td>0</td>\n",
       "      <td>0</td>\n",
       "      <td>1</td>\n",
       "      <td>0</td>\n",
       "      <td>0</td>\n",
       "      <td>0.0</td>\n",
       "      <td>1</td>\n",
       "      <td>...</td>\n",
       "      <td>0</td>\n",
       "      <td>0</td>\n",
       "      <td>1</td>\n",
       "      <td>0</td>\n",
       "      <td>0</td>\n",
       "      <td>0</td>\n",
       "      <td>0</td>\n",
       "      <td>0</td>\n",
       "      <td>0</td>\n",
       "      <td>0</td>\n",
       "    </tr>\n",
       "    <tr>\n",
       "      <th>1</th>\n",
       "      <td>0.00</td>\n",
       "      <td>1</td>\n",
       "      <td>0.200000</td>\n",
       "      <td>0</td>\n",
       "      <td>1</td>\n",
       "      <td>0</td>\n",
       "      <td>0</td>\n",
       "      <td>1</td>\n",
       "      <td>0.0</td>\n",
       "      <td>1</td>\n",
       "      <td>...</td>\n",
       "      <td>1</td>\n",
       "      <td>0</td>\n",
       "      <td>0</td>\n",
       "      <td>1</td>\n",
       "      <td>0</td>\n",
       "      <td>0</td>\n",
       "      <td>0</td>\n",
       "      <td>0</td>\n",
       "      <td>0</td>\n",
       "      <td>1</td>\n",
       "    </tr>\n",
       "    <tr>\n",
       "      <th>2</th>\n",
       "      <td>0.25</td>\n",
       "      <td>1</td>\n",
       "      <td>0.611765</td>\n",
       "      <td>0</td>\n",
       "      <td>0</td>\n",
       "      <td>0</td>\n",
       "      <td>0</td>\n",
       "      <td>1</td>\n",
       "      <td>0.0</td>\n",
       "      <td>1</td>\n",
       "      <td>...</td>\n",
       "      <td>0</td>\n",
       "      <td>0</td>\n",
       "      <td>0</td>\n",
       "      <td>1</td>\n",
       "      <td>0</td>\n",
       "      <td>0</td>\n",
       "      <td>0</td>\n",
       "      <td>0</td>\n",
       "      <td>1</td>\n",
       "      <td>0</td>\n",
       "    </tr>\n",
       "  </tbody>\n",
       "</table>\n",
       "<p>3 rows × 23 columns</p>\n",
       "</div>"
      ],
      "text/plain": [
       "   months  multiple    gb_mon  security  backup  protection  support  \\\n",
       "0    0.00         0  0.094118         0       0           1        0   \n",
       "1    0.00         1  0.200000         0       1           0        0   \n",
       "2    0.25         1  0.611765         0       0           0        0   \n",
       "\n",
       "   unlimited  contract  paperless  ...  payment_Credit Card  \\\n",
       "0          0       0.0          1  ...                    0   \n",
       "1          1       0.0          1  ...                    1   \n",
       "2          1       0.0          1  ...                    0   \n",
       "\n",
       "   payment_Mailed Check  internet_type_DSL  internet_type_Fiber Optic  \\\n",
       "0                     0                  1                          0   \n",
       "1                     0                  0                          1   \n",
       "2                     0                  0                          1   \n",
       "\n",
       "   internet_type_None  offer_Offer A  offer_Offer B  offer_Offer C  \\\n",
       "0                   0              0              0              0   \n",
       "1                   0              0              0              0   \n",
       "2                   0              0              0              0   \n",
       "\n",
       "   offer_Offer D  offer_Offer E  \n",
       "0              0              0  \n",
       "1              0              1  \n",
       "2              1              0  \n",
       "\n",
       "[3 rows x 23 columns]"
      ]
     },
     "execution_count": 3,
     "metadata": {},
     "output_type": "execute_result"
    }
   ],
   "source": [
    "df.head(3)"
   ]
  },
  {
   "cell_type": "markdown",
   "id": "72ff613b",
   "metadata": {},
   "source": [
    "## Descriptive statistic of the data"
   ]
  },
  {
   "cell_type": "code",
   "execution_count": 4,
   "id": "b5095235",
   "metadata": {},
   "outputs": [
    {
     "data": {
      "text/html": [
       "<div>\n",
       "<style scoped>\n",
       "    .dataframe tbody tr th:only-of-type {\n",
       "        vertical-align: middle;\n",
       "    }\n",
       "\n",
       "    .dataframe tbody tr th {\n",
       "        vertical-align: top;\n",
       "    }\n",
       "\n",
       "    .dataframe thead th {\n",
       "        text-align: right;\n",
       "    }\n",
       "</style>\n",
       "<table border=\"1\" class=\"dataframe\">\n",
       "  <thead>\n",
       "    <tr style=\"text-align: right;\">\n",
       "      <th></th>\n",
       "      <th>months</th>\n",
       "      <th>multiple</th>\n",
       "      <th>gb_mon</th>\n",
       "      <th>security</th>\n",
       "      <th>backup</th>\n",
       "      <th>protection</th>\n",
       "      <th>support</th>\n",
       "      <th>unlimited</th>\n",
       "      <th>contract</th>\n",
       "      <th>paperless</th>\n",
       "      <th>...</th>\n",
       "      <th>payment_Credit Card</th>\n",
       "      <th>payment_Mailed Check</th>\n",
       "      <th>internet_type_DSL</th>\n",
       "      <th>internet_type_Fiber Optic</th>\n",
       "      <th>internet_type_None</th>\n",
       "      <th>offer_Offer A</th>\n",
       "      <th>offer_Offer B</th>\n",
       "      <th>offer_Offer C</th>\n",
       "      <th>offer_Offer D</th>\n",
       "      <th>offer_Offer E</th>\n",
       "    </tr>\n",
       "  </thead>\n",
       "  <tbody>\n",
       "    <tr>\n",
       "      <th>count</th>\n",
       "      <td>7043.0000</td>\n",
       "      <td>7043.0000</td>\n",
       "      <td>7043.0000</td>\n",
       "      <td>7043.0000</td>\n",
       "      <td>7043.0000</td>\n",
       "      <td>7043.0000</td>\n",
       "      <td>7043.0000</td>\n",
       "      <td>7043.0000</td>\n",
       "      <td>7043.0000</td>\n",
       "      <td>7043.0000</td>\n",
       "      <td>...</td>\n",
       "      <td>7043.0000</td>\n",
       "      <td>7043.0000</td>\n",
       "      <td>7043.0000</td>\n",
       "      <td>7043.0000</td>\n",
       "      <td>7043.0000</td>\n",
       "      <td>7043.0000</td>\n",
       "      <td>7043.0000</td>\n",
       "      <td>7043.0000</td>\n",
       "      <td>7043.0000</td>\n",
       "      <td>7043.0000</td>\n",
       "    </tr>\n",
       "    <tr>\n",
       "      <th>mean</th>\n",
       "      <td>0.4336</td>\n",
       "      <td>0.4218</td>\n",
       "      <td>0.2414</td>\n",
       "      <td>0.2867</td>\n",
       "      <td>0.3449</td>\n",
       "      <td>0.3439</td>\n",
       "      <td>0.2902</td>\n",
       "      <td>0.6737</td>\n",
       "      <td>0.3774</td>\n",
       "      <td>0.5922</td>\n",
       "      <td>...</td>\n",
       "      <td>0.3903</td>\n",
       "      <td>0.0547</td>\n",
       "      <td>0.2346</td>\n",
       "      <td>0.4309</td>\n",
       "      <td>0.2167</td>\n",
       "      <td>0.0738</td>\n",
       "      <td>0.1170</td>\n",
       "      <td>0.0589</td>\n",
       "      <td>0.0855</td>\n",
       "      <td>0.1143</td>\n",
       "    </tr>\n",
       "    <tr>\n",
       "      <th>std</th>\n",
       "      <td>0.3982</td>\n",
       "      <td>0.4939</td>\n",
       "      <td>0.2402</td>\n",
       "      <td>0.4522</td>\n",
       "      <td>0.4754</td>\n",
       "      <td>0.4750</td>\n",
       "      <td>0.4539</td>\n",
       "      <td>0.4689</td>\n",
       "      <td>0.4242</td>\n",
       "      <td>0.4915</td>\n",
       "      <td>...</td>\n",
       "      <td>0.4879</td>\n",
       "      <td>0.2273</td>\n",
       "      <td>0.4238</td>\n",
       "      <td>0.4952</td>\n",
       "      <td>0.4120</td>\n",
       "      <td>0.2615</td>\n",
       "      <td>0.3214</td>\n",
       "      <td>0.2355</td>\n",
       "      <td>0.2796</td>\n",
       "      <td>0.3182</td>\n",
       "    </tr>\n",
       "    <tr>\n",
       "      <th>min</th>\n",
       "      <td>0.0000</td>\n",
       "      <td>0.0000</td>\n",
       "      <td>0.0000</td>\n",
       "      <td>0.0000</td>\n",
       "      <td>0.0000</td>\n",
       "      <td>0.0000</td>\n",
       "      <td>0.0000</td>\n",
       "      <td>0.0000</td>\n",
       "      <td>0.0000</td>\n",
       "      <td>0.0000</td>\n",
       "      <td>...</td>\n",
       "      <td>0.0000</td>\n",
       "      <td>0.0000</td>\n",
       "      <td>0.0000</td>\n",
       "      <td>0.0000</td>\n",
       "      <td>0.0000</td>\n",
       "      <td>0.0000</td>\n",
       "      <td>0.0000</td>\n",
       "      <td>0.0000</td>\n",
       "      <td>0.0000</td>\n",
       "      <td>0.0000</td>\n",
       "    </tr>\n",
       "    <tr>\n",
       "      <th>25%</th>\n",
       "      <td>0.0000</td>\n",
       "      <td>0.0000</td>\n",
       "      <td>0.0353</td>\n",
       "      <td>0.0000</td>\n",
       "      <td>0.0000</td>\n",
       "      <td>0.0000</td>\n",
       "      <td>0.0000</td>\n",
       "      <td>0.0000</td>\n",
       "      <td>0.0000</td>\n",
       "      <td>0.0000</td>\n",
       "      <td>...</td>\n",
       "      <td>0.0000</td>\n",
       "      <td>0.0000</td>\n",
       "      <td>0.0000</td>\n",
       "      <td>0.0000</td>\n",
       "      <td>0.0000</td>\n",
       "      <td>0.0000</td>\n",
       "      <td>0.0000</td>\n",
       "      <td>0.0000</td>\n",
       "      <td>0.0000</td>\n",
       "      <td>0.0000</td>\n",
       "    </tr>\n",
       "    <tr>\n",
       "      <th>50%</th>\n",
       "      <td>0.2500</td>\n",
       "      <td>0.0000</td>\n",
       "      <td>0.2000</td>\n",
       "      <td>0.0000</td>\n",
       "      <td>0.0000</td>\n",
       "      <td>0.0000</td>\n",
       "      <td>0.0000</td>\n",
       "      <td>1.0000</td>\n",
       "      <td>0.0000</td>\n",
       "      <td>1.0000</td>\n",
       "      <td>...</td>\n",
       "      <td>0.0000</td>\n",
       "      <td>0.0000</td>\n",
       "      <td>0.0000</td>\n",
       "      <td>0.0000</td>\n",
       "      <td>0.0000</td>\n",
       "      <td>0.0000</td>\n",
       "      <td>0.0000</td>\n",
       "      <td>0.0000</td>\n",
       "      <td>0.0000</td>\n",
       "      <td>0.0000</td>\n",
       "    </tr>\n",
       "    <tr>\n",
       "      <th>75%</th>\n",
       "      <td>0.7500</td>\n",
       "      <td>1.0000</td>\n",
       "      <td>0.3176</td>\n",
       "      <td>1.0000</td>\n",
       "      <td>1.0000</td>\n",
       "      <td>1.0000</td>\n",
       "      <td>1.0000</td>\n",
       "      <td>1.0000</td>\n",
       "      <td>1.0000</td>\n",
       "      <td>1.0000</td>\n",
       "      <td>...</td>\n",
       "      <td>1.0000</td>\n",
       "      <td>0.0000</td>\n",
       "      <td>0.0000</td>\n",
       "      <td>1.0000</td>\n",
       "      <td>0.0000</td>\n",
       "      <td>0.0000</td>\n",
       "      <td>0.0000</td>\n",
       "      <td>0.0000</td>\n",
       "      <td>0.0000</td>\n",
       "      <td>0.0000</td>\n",
       "    </tr>\n",
       "    <tr>\n",
       "      <th>max</th>\n",
       "      <td>1.0000</td>\n",
       "      <td>1.0000</td>\n",
       "      <td>1.0000</td>\n",
       "      <td>1.0000</td>\n",
       "      <td>1.0000</td>\n",
       "      <td>1.0000</td>\n",
       "      <td>1.0000</td>\n",
       "      <td>1.0000</td>\n",
       "      <td>1.0000</td>\n",
       "      <td>1.0000</td>\n",
       "      <td>...</td>\n",
       "      <td>1.0000</td>\n",
       "      <td>1.0000</td>\n",
       "      <td>1.0000</td>\n",
       "      <td>1.0000</td>\n",
       "      <td>1.0000</td>\n",
       "      <td>1.0000</td>\n",
       "      <td>1.0000</td>\n",
       "      <td>1.0000</td>\n",
       "      <td>1.0000</td>\n",
       "      <td>1.0000</td>\n",
       "    </tr>\n",
       "  </tbody>\n",
       "</table>\n",
       "<p>8 rows × 23 columns</p>\n",
       "</div>"
      ],
      "text/plain": [
       "          months   multiple     gb_mon   security     backup  protection  \\\n",
       "count  7043.0000  7043.0000  7043.0000  7043.0000  7043.0000   7043.0000   \n",
       "mean      0.4336     0.4218     0.2414     0.2867     0.3449      0.3439   \n",
       "std       0.3982     0.4939     0.2402     0.4522     0.4754      0.4750   \n",
       "min       0.0000     0.0000     0.0000     0.0000     0.0000      0.0000   \n",
       "25%       0.0000     0.0000     0.0353     0.0000     0.0000      0.0000   \n",
       "50%       0.2500     0.0000     0.2000     0.0000     0.0000      0.0000   \n",
       "75%       0.7500     1.0000     0.3176     1.0000     1.0000      1.0000   \n",
       "max       1.0000     1.0000     1.0000     1.0000     1.0000      1.0000   \n",
       "\n",
       "         support  unlimited   contract  paperless  ...  payment_Credit Card  \\\n",
       "count  7043.0000  7043.0000  7043.0000  7043.0000  ...            7043.0000   \n",
       "mean      0.2902     0.6737     0.3774     0.5922  ...               0.3903   \n",
       "std       0.4539     0.4689     0.4242     0.4915  ...               0.4879   \n",
       "min       0.0000     0.0000     0.0000     0.0000  ...               0.0000   \n",
       "25%       0.0000     0.0000     0.0000     0.0000  ...               0.0000   \n",
       "50%       0.0000     1.0000     0.0000     1.0000  ...               0.0000   \n",
       "75%       1.0000     1.0000     1.0000     1.0000  ...               1.0000   \n",
       "max       1.0000     1.0000     1.0000     1.0000  ...               1.0000   \n",
       "\n",
       "       payment_Mailed Check  internet_type_DSL  internet_type_Fiber Optic  \\\n",
       "count             7043.0000          7043.0000                  7043.0000   \n",
       "mean                 0.0547             0.2346                     0.4309   \n",
       "std                  0.2273             0.4238                     0.4952   \n",
       "min                  0.0000             0.0000                     0.0000   \n",
       "25%                  0.0000             0.0000                     0.0000   \n",
       "50%                  0.0000             0.0000                     0.0000   \n",
       "75%                  0.0000             0.0000                     1.0000   \n",
       "max                  1.0000             1.0000                     1.0000   \n",
       "\n",
       "       internet_type_None  offer_Offer A  offer_Offer B  offer_Offer C  \\\n",
       "count           7043.0000      7043.0000      7043.0000      7043.0000   \n",
       "mean               0.2167         0.0738         0.1170         0.0589   \n",
       "std                0.4120         0.2615         0.3214         0.2355   \n",
       "min                0.0000         0.0000         0.0000         0.0000   \n",
       "25%                0.0000         0.0000         0.0000         0.0000   \n",
       "50%                0.0000         0.0000         0.0000         0.0000   \n",
       "75%                0.0000         0.0000         0.0000         0.0000   \n",
       "max                1.0000         1.0000         1.0000         1.0000   \n",
       "\n",
       "       offer_Offer D  offer_Offer E  \n",
       "count      7043.0000      7043.0000  \n",
       "mean          0.0855         0.1143  \n",
       "std           0.2796         0.3182  \n",
       "min           0.0000         0.0000  \n",
       "25%           0.0000         0.0000  \n",
       "50%           0.0000         0.0000  \n",
       "75%           0.0000         0.0000  \n",
       "max           1.0000         1.0000  \n",
       "\n",
       "[8 rows x 23 columns]"
      ]
     },
     "execution_count": 4,
     "metadata": {},
     "output_type": "execute_result"
    }
   ],
   "source": [
    "round(df.describe(),4)"
   ]
  },
  {
   "cell_type": "markdown",
   "id": "27edefef",
   "metadata": {},
   "source": [
    "## Data types"
   ]
  },
  {
   "cell_type": "code",
   "execution_count": 5,
   "id": "8125079d",
   "metadata": {},
   "outputs": [
    {
     "data": {
      "text/plain": [
       "months                       float64\n",
       "multiple                       int64\n",
       "gb_mon                       float64\n",
       "security                       int64\n",
       "backup                         int64\n",
       "protection                     int64\n",
       "support                        int64\n",
       "unlimited                      int64\n",
       "contract                     float64\n",
       "paperless                      int64\n",
       "monthly                      float64\n",
       "satisfaction                 float64\n",
       "churn_value                    int64\n",
       "payment_Credit Card            int64\n",
       "payment_Mailed Check           int64\n",
       "internet_type_DSL              int64\n",
       "internet_type_Fiber Optic      int64\n",
       "internet_type_None             int64\n",
       "offer_Offer A                  int64\n",
       "offer_Offer B                  int64\n",
       "offer_Offer C                  int64\n",
       "offer_Offer D                  int64\n",
       "offer_Offer E                  int64\n",
       "dtype: object"
      ]
     },
     "execution_count": 5,
     "metadata": {},
     "output_type": "execute_result"
    }
   ],
   "source": [
    "df.dtypes"
   ]
  },
  {
   "cell_type": "markdown",
   "id": "e57eec1e",
   "metadata": {},
   "source": [
    "### Identify the binary variables, ordinal variables\n",
    "### Find the uniques values for each variables"
   ]
  },
  {
   "cell_type": "code",
   "execution_count": 6,
   "id": "246695bf",
   "metadata": {},
   "outputs": [
    {
     "data": {
      "text/html": [
       "<div>\n",
       "<style scoped>\n",
       "    .dataframe tbody tr th:only-of-type {\n",
       "        vertical-align: middle;\n",
       "    }\n",
       "\n",
       "    .dataframe tbody tr th {\n",
       "        vertical-align: top;\n",
       "    }\n",
       "\n",
       "    .dataframe thead th {\n",
       "        text-align: right;\n",
       "    }\n",
       "</style>\n",
       "<table border=\"1\" class=\"dataframe\">\n",
       "  <thead>\n",
       "    <tr style=\"text-align: right;\">\n",
       "      <th></th>\n",
       "      <th>Unique Values</th>\n",
       "    </tr>\n",
       "    <tr>\n",
       "      <th>Variable</th>\n",
       "      <th></th>\n",
       "    </tr>\n",
       "  </thead>\n",
       "  <tbody>\n",
       "    <tr>\n",
       "      <th>months</th>\n",
       "      <td>5</td>\n",
       "    </tr>\n",
       "    <tr>\n",
       "      <th>multiple</th>\n",
       "      <td>2</td>\n",
       "    </tr>\n",
       "    <tr>\n",
       "      <th>gb_mon</th>\n",
       "      <td>50</td>\n",
       "    </tr>\n",
       "    <tr>\n",
       "      <th>security</th>\n",
       "      <td>2</td>\n",
       "    </tr>\n",
       "    <tr>\n",
       "      <th>backup</th>\n",
       "      <td>2</td>\n",
       "    </tr>\n",
       "    <tr>\n",
       "      <th>protection</th>\n",
       "      <td>2</td>\n",
       "    </tr>\n",
       "    <tr>\n",
       "      <th>support</th>\n",
       "      <td>2</td>\n",
       "    </tr>\n",
       "    <tr>\n",
       "      <th>unlimited</th>\n",
       "      <td>2</td>\n",
       "    </tr>\n",
       "    <tr>\n",
       "      <th>contract</th>\n",
       "      <td>3</td>\n",
       "    </tr>\n",
       "    <tr>\n",
       "      <th>paperless</th>\n",
       "      <td>2</td>\n",
       "    </tr>\n",
       "    <tr>\n",
       "      <th>monthly</th>\n",
       "      <td>1585</td>\n",
       "    </tr>\n",
       "    <tr>\n",
       "      <th>satisfaction</th>\n",
       "      <td>5</td>\n",
       "    </tr>\n",
       "    <tr>\n",
       "      <th>churn_value</th>\n",
       "      <td>2</td>\n",
       "    </tr>\n",
       "    <tr>\n",
       "      <th>payment_Credit Card</th>\n",
       "      <td>2</td>\n",
       "    </tr>\n",
       "    <tr>\n",
       "      <th>payment_Mailed Check</th>\n",
       "      <td>2</td>\n",
       "    </tr>\n",
       "    <tr>\n",
       "      <th>internet_type_DSL</th>\n",
       "      <td>2</td>\n",
       "    </tr>\n",
       "    <tr>\n",
       "      <th>internet_type_Fiber Optic</th>\n",
       "      <td>2</td>\n",
       "    </tr>\n",
       "    <tr>\n",
       "      <th>internet_type_None</th>\n",
       "      <td>2</td>\n",
       "    </tr>\n",
       "    <tr>\n",
       "      <th>offer_Offer A</th>\n",
       "      <td>2</td>\n",
       "    </tr>\n",
       "    <tr>\n",
       "      <th>offer_Offer B</th>\n",
       "      <td>2</td>\n",
       "    </tr>\n",
       "    <tr>\n",
       "      <th>offer_Offer C</th>\n",
       "      <td>2</td>\n",
       "    </tr>\n",
       "    <tr>\n",
       "      <th>offer_Offer D</th>\n",
       "      <td>2</td>\n",
       "    </tr>\n",
       "    <tr>\n",
       "      <th>offer_Offer E</th>\n",
       "      <td>2</td>\n",
       "    </tr>\n",
       "  </tbody>\n",
       "</table>\n",
       "</div>"
      ],
      "text/plain": [
       "                           Unique Values\n",
       "Variable                                \n",
       "months                                 5\n",
       "multiple                               2\n",
       "gb_mon                                50\n",
       "security                               2\n",
       "backup                                 2\n",
       "protection                             2\n",
       "support                                2\n",
       "unlimited                              2\n",
       "contract                               3\n",
       "paperless                              2\n",
       "monthly                             1585\n",
       "satisfaction                           5\n",
       "churn_value                            2\n",
       "payment_Credit Card                    2\n",
       "payment_Mailed Check                   2\n",
       "internet_type_DSL                      2\n",
       "internet_type_Fiber Optic              2\n",
       "internet_type_None                     2\n",
       "offer_Offer A                          2\n",
       "offer_Offer B                          2\n",
       "offer_Offer C                          2\n",
       "offer_Offer D                          2\n",
       "offer_Offer E                          2"
      ]
     },
     "execution_count": 6,
     "metadata": {},
     "output_type": "execute_result"
    }
   ],
   "source": [
    "df_uniques=pd.DataFrame([[name,len(df[name].unique())] for name in df.columns],columns=['Variable','Unique Values']).set_index('Variable')\n",
    "df_uniques"
   ]
  },
  {
   "cell_type": "markdown",
   "id": "98a92c61",
   "metadata": {},
   "source": [
    "### Find the binary variables\n",
    "### if the unique values corresponding to variable is 2 then the variable is binary"
   ]
  },
  {
   "cell_type": "code",
   "execution_count": 36,
   "id": "86b99fa4",
   "metadata": {},
   "outputs": [
    {
     "data": {
      "text/plain": [
       "['multiple',\n",
       " 'security',\n",
       " 'backup',\n",
       " 'protection',\n",
       " 'support',\n",
       " 'unlimited',\n",
       " 'paperless',\n",
       " 'churn_value',\n",
       " 'payment_Credit Card',\n",
       " 'payment_Mailed Check',\n",
       " 'internet_type_DSL',\n",
       " 'internet_type_Fiber Optic',\n",
       " 'internet_type_None',\n",
       " 'offer_Offer A',\n",
       " 'offer_Offer B',\n",
       " 'offer_Offer C',\n",
       " 'offer_Offer D',\n",
       " 'offer_Offer E']"
      ]
     },
     "execution_count": 36,
     "metadata": {},
     "output_type": "execute_result"
    }
   ],
   "source": [
    "binary_variables=list(df_uniques[df_uniques['Unique Values']==2].index)\n",
    "binary_variables"
   ]
  },
  {
   "cell_type": "markdown",
   "id": "0cf78237",
   "metadata": {},
   "source": [
    "### Find the categorical variables\n",
    "### if the unique values corresponding to variable is greater than 2 and less than 6 then the variable is categorical variables"
   ]
  },
  {
   "cell_type": "code",
   "execution_count": 37,
   "id": "1b6021b5",
   "metadata": {},
   "outputs": [
    {
     "data": {
      "text/plain": [
       "['months', 'contract', 'satisfaction']"
      ]
     },
     "execution_count": 37,
     "metadata": {},
     "output_type": "execute_result"
    }
   ],
   "source": [
    "categorical_variables=list(df_uniques[(df_uniques['Unique Values']<=5) & (df_uniques['Unique Values']>2)].index)\n",
    "categorical_variables"
   ]
  },
  {
   "cell_type": "markdown",
   "id": "1ce646fa",
   "metadata": {},
   "source": [
    "### Now we look at the values of the categorical variables to see whether they are ordinal variables"
   ]
  },
  {
   "cell_type": "code",
   "execution_count": 38,
   "id": "0cb7e24c",
   "metadata": {},
   "outputs": [
    {
     "data": {
      "text/plain": [
       "[['months', [1, 0]], ['contract', [1, 0]], ['satisfaction', [0, 1]]]"
      ]
     },
     "execution_count": 38,
     "metadata": {},
     "output_type": "execute_result"
    }
   ],
   "source": [
    "[[name,list(df[name].unique())] for name in categorical_variables]"
   ]
  },
  {
   "cell_type": "code",
   "execution_count": 39,
   "id": "b50890a0",
   "metadata": {},
   "outputs": [],
   "source": [
    "ordinal_variables=['months','contract','satisfaction']"
   ]
  },
  {
   "cell_type": "code",
   "execution_count": 40,
   "id": "15907d34",
   "metadata": {},
   "outputs": [
    {
     "data": {
      "text/plain": [
       "{'contract', 'months', 'satisfaction'}"
      ]
     },
     "execution_count": 40,
     "metadata": {},
     "output_type": "execute_result"
    }
   ],
   "source": [
    "set(categorical_variables)\n",
    "set(ordinal_variables)"
   ]
  },
  {
   "cell_type": "markdown",
   "id": "ab52906b",
   "metadata": {},
   "source": [
    "### Rest of the varaibles in the data set are numerical variables."
   ]
  },
  {
   "cell_type": "code",
   "execution_count": 41,
   "id": "e8a4748b",
   "metadata": {},
   "outputs": [
    {
     "data": {
      "text/plain": [
       "['gb_mon', 'monthly']"
      ]
     },
     "execution_count": 41,
     "metadata": {},
     "output_type": "execute_result"
    }
   ],
   "source": [
    "numeric_variables=list(set(df.columns)-set(binary_variables)-set(categorical_variables))\n",
    "numeric_variables"
   ]
  },
  {
   "cell_type": "markdown",
   "id": "72234da8",
   "metadata": {},
   "source": [
    "### Graphical representation of the numeric variables\n",
    "### Histogram"
   ]
  },
  {
   "cell_type": "code",
   "execution_count": 42,
   "id": "470fb6ab",
   "metadata": {},
   "outputs": [
    {
     "data": {
      "text/plain": [
       "array([[<AxesSubplot:title={'center':'gb_mon'}>,\n",
       "        <AxesSubplot:title={'center':'monthly'}>]], dtype=object)"
      ]
     },
     "execution_count": 42,
     "metadata": {},
     "output_type": "execute_result"
    },
    {
     "data": {
      "image/png": "[encoded data removed]",
      "text/plain": [
       "<Figure size 1008x432 with 2 Axes>"
      ]
     },
     "metadata": {
      "needs_background": "light"
     },
     "output_type": "display_data"
    }
   ],
   "source": [
    "df[numeric_variables].hist(figsize=(14,6),bins=20)"
   ]
  },
  {
   "cell_type": "markdown",
   "id": "53505065",
   "metadata": {},
   "source": [
    "### Data Preprocessing\n",
    "### K-nearest neighbors requires scaling of the data as it uses distance\n",
    "### save the scaled data in a csv file"
   ]
  },
  {
   "cell_type": "code",
   "execution_count": 43,
   "id": "41e52928",
   "metadata": {},
   "outputs": [],
   "source": [
    "from sklearn.preprocessing import LabelBinarizer, LabelEncoder,OrdinalEncoder"
   ]
  },
  {
   "cell_type": "code",
   "execution_count": 44,
   "id": "65ffe3e3",
   "metadata": {},
   "outputs": [],
   "source": [
    "lb,le,oe=LabelBinarizer(),LabelEncoder(),OrdinalEncoder()"
   ]
  },
  {
   "cell_type": "code",
   "execution_count": 45,
   "id": "a59022f9",
   "metadata": {},
   "outputs": [],
   "source": [
    "for column in ordinal_variables:\n",
    "    df[column]=le.fit_transform(df[column])"
   ]
  },
  {
   "cell_type": "code",
   "execution_count": 46,
   "id": "75c8272b",
   "metadata": {},
   "outputs": [],
   "source": [
    "for column in binary_variables:\n",
    "    df[column]=lb.fit_transform(df[column])"
   ]
  },
  {
   "cell_type": "markdown",
   "id": "eb2d7081",
   "metadata": {},
   "source": [
    "### Define the categorical variables"
   ]
  },
  {
   "cell_type": "code",
   "execution_count": 47,
   "id": "5b6bff62",
   "metadata": {},
   "outputs": [],
   "source": [
    "categorical_variables=list(set(categorical_variables)-set(binary_variables)-set(ordinal_variables))"
   ]
  },
  {
   "cell_type": "code",
   "execution_count": 51,
   "id": "1a3cd216",
   "metadata": {},
   "outputs": [],
   "source": [
    "df=pd.get_dummies(df,columns=categorical_variables,drop_first=True)"
   ]
  },
  {
   "cell_type": "markdown",
   "id": "4c592caa",
   "metadata": {},
   "source": [
    "### Descriptive statisctics of the data set after scaling"
   ]
  },
  {
   "cell_type": "code",
   "execution_count": 52,
   "id": "58b00367",
   "metadata": {},
   "outputs": [
    {
     "data": {
      "text/html": [
       "<div>\n",
       "<style scoped>\n",
       "    .dataframe tbody tr th:only-of-type {\n",
       "        vertical-align: middle;\n",
       "    }\n",
       "\n",
       "    .dataframe tbody tr th {\n",
       "        vertical-align: top;\n",
       "    }\n",
       "\n",
       "    .dataframe thead th {\n",
       "        text-align: right;\n",
       "    }\n",
       "</style>\n",
       "<table border=\"1\" class=\"dataframe\">\n",
       "  <thead>\n",
       "    <tr style=\"text-align: right;\">\n",
       "      <th></th>\n",
       "      <th>months</th>\n",
       "      <th>multiple</th>\n",
       "      <th>gb_mon</th>\n",
       "      <th>security</th>\n",
       "      <th>backup</th>\n",
       "      <th>protection</th>\n",
       "      <th>support</th>\n",
       "      <th>unlimited</th>\n",
       "      <th>contract</th>\n",
       "      <th>paperless</th>\n",
       "      <th>...</th>\n",
       "      <th>payment_Credit Card</th>\n",
       "      <th>payment_Mailed Check</th>\n",
       "      <th>internet_type_DSL</th>\n",
       "      <th>internet_type_Fiber Optic</th>\n",
       "      <th>internet_type_None</th>\n",
       "      <th>offer_Offer A</th>\n",
       "      <th>offer_Offer B</th>\n",
       "      <th>offer_Offer C</th>\n",
       "      <th>offer_Offer D</th>\n",
       "      <th>offer_Offer E</th>\n",
       "    </tr>\n",
       "  </thead>\n",
       "  <tbody>\n",
       "    <tr>\n",
       "      <th>count</th>\n",
       "      <td>7043.000000</td>\n",
       "      <td>7043.000000</td>\n",
       "      <td>7043.000000</td>\n",
       "      <td>7043.000000</td>\n",
       "      <td>7043.000000</td>\n",
       "      <td>7043.000000</td>\n",
       "      <td>7043.000000</td>\n",
       "      <td>7043.000000</td>\n",
       "      <td>7043.000000</td>\n",
       "      <td>7043.000000</td>\n",
       "      <td>...</td>\n",
       "      <td>7043.000000</td>\n",
       "      <td>7043.000000</td>\n",
       "      <td>7043.000000</td>\n",
       "      <td>7043.000000</td>\n",
       "      <td>7043.000000</td>\n",
       "      <td>7043.000000</td>\n",
       "      <td>7043.000000</td>\n",
       "      <td>7043.000000</td>\n",
       "      <td>7043.000000</td>\n",
       "      <td>7043.000000</td>\n",
       "    </tr>\n",
       "    <tr>\n",
       "      <th>mean</th>\n",
       "      <td>0.350703</td>\n",
       "      <td>0.421837</td>\n",
       "      <td>0.241358</td>\n",
       "      <td>0.286668</td>\n",
       "      <td>0.344881</td>\n",
       "      <td>0.343888</td>\n",
       "      <td>0.290217</td>\n",
       "      <td>0.673719</td>\n",
       "      <td>0.512566</td>\n",
       "      <td>0.592219</td>\n",
       "      <td>...</td>\n",
       "      <td>0.390317</td>\n",
       "      <td>0.054664</td>\n",
       "      <td>0.234559</td>\n",
       "      <td>0.430924</td>\n",
       "      <td>0.216669</td>\n",
       "      <td>0.073832</td>\n",
       "      <td>0.116996</td>\n",
       "      <td>0.058924</td>\n",
       "      <td>0.085475</td>\n",
       "      <td>0.114298</td>\n",
       "    </tr>\n",
       "    <tr>\n",
       "      <th>std</th>\n",
       "      <td>0.477224</td>\n",
       "      <td>0.493888</td>\n",
       "      <td>0.240223</td>\n",
       "      <td>0.452237</td>\n",
       "      <td>0.475363</td>\n",
       "      <td>0.475038</td>\n",
       "      <td>0.453895</td>\n",
       "      <td>0.468885</td>\n",
       "      <td>0.499878</td>\n",
       "      <td>0.491457</td>\n",
       "      <td>...</td>\n",
       "      <td>0.487856</td>\n",
       "      <td>0.227340</td>\n",
       "      <td>0.423753</td>\n",
       "      <td>0.495241</td>\n",
       "      <td>0.412004</td>\n",
       "      <td>0.261516</td>\n",
       "      <td>0.321438</td>\n",
       "      <td>0.235499</td>\n",
       "      <td>0.279607</td>\n",
       "      <td>0.318195</td>\n",
       "    </tr>\n",
       "    <tr>\n",
       "      <th>min</th>\n",
       "      <td>0.000000</td>\n",
       "      <td>0.000000</td>\n",
       "      <td>0.000000</td>\n",
       "      <td>0.000000</td>\n",
       "      <td>0.000000</td>\n",
       "      <td>0.000000</td>\n",
       "      <td>0.000000</td>\n",
       "      <td>0.000000</td>\n",
       "      <td>0.000000</td>\n",
       "      <td>0.000000</td>\n",
       "      <td>...</td>\n",
       "      <td>0.000000</td>\n",
       "      <td>0.000000</td>\n",
       "      <td>0.000000</td>\n",
       "      <td>0.000000</td>\n",
       "      <td>0.000000</td>\n",
       "      <td>0.000000</td>\n",
       "      <td>0.000000</td>\n",
       "      <td>0.000000</td>\n",
       "      <td>0.000000</td>\n",
       "      <td>0.000000</td>\n",
       "    </tr>\n",
       "    <tr>\n",
       "      <th>25%</th>\n",
       "      <td>0.000000</td>\n",
       "      <td>0.000000</td>\n",
       "      <td>0.035294</td>\n",
       "      <td>0.000000</td>\n",
       "      <td>0.000000</td>\n",
       "      <td>0.000000</td>\n",
       "      <td>0.000000</td>\n",
       "      <td>0.000000</td>\n",
       "      <td>0.000000</td>\n",
       "      <td>0.000000</td>\n",
       "      <td>...</td>\n",
       "      <td>0.000000</td>\n",
       "      <td>0.000000</td>\n",
       "      <td>0.000000</td>\n",
       "      <td>0.000000</td>\n",
       "      <td>0.000000</td>\n",
       "      <td>0.000000</td>\n",
       "      <td>0.000000</td>\n",
       "      <td>0.000000</td>\n",
       "      <td>0.000000</td>\n",
       "      <td>0.000000</td>\n",
       "    </tr>\n",
       "    <tr>\n",
       "      <th>50%</th>\n",
       "      <td>0.000000</td>\n",
       "      <td>0.000000</td>\n",
       "      <td>0.200000</td>\n",
       "      <td>0.000000</td>\n",
       "      <td>0.000000</td>\n",
       "      <td>0.000000</td>\n",
       "      <td>0.000000</td>\n",
       "      <td>1.000000</td>\n",
       "      <td>1.000000</td>\n",
       "      <td>1.000000</td>\n",
       "      <td>...</td>\n",
       "      <td>0.000000</td>\n",
       "      <td>0.000000</td>\n",
       "      <td>0.000000</td>\n",
       "      <td>0.000000</td>\n",
       "      <td>0.000000</td>\n",
       "      <td>0.000000</td>\n",
       "      <td>0.000000</td>\n",
       "      <td>0.000000</td>\n",
       "      <td>0.000000</td>\n",
       "      <td>0.000000</td>\n",
       "    </tr>\n",
       "    <tr>\n",
       "      <th>75%</th>\n",
       "      <td>1.000000</td>\n",
       "      <td>1.000000</td>\n",
       "      <td>0.317647</td>\n",
       "      <td>1.000000</td>\n",
       "      <td>1.000000</td>\n",
       "      <td>1.000000</td>\n",
       "      <td>1.000000</td>\n",
       "      <td>1.000000</td>\n",
       "      <td>1.000000</td>\n",
       "      <td>1.000000</td>\n",
       "      <td>...</td>\n",
       "      <td>1.000000</td>\n",
       "      <td>0.000000</td>\n",
       "      <td>0.000000</td>\n",
       "      <td>1.000000</td>\n",
       "      <td>0.000000</td>\n",
       "      <td>0.000000</td>\n",
       "      <td>0.000000</td>\n",
       "      <td>0.000000</td>\n",
       "      <td>0.000000</td>\n",
       "      <td>0.000000</td>\n",
       "    </tr>\n",
       "    <tr>\n",
       "      <th>max</th>\n",
       "      <td>1.000000</td>\n",
       "      <td>1.000000</td>\n",
       "      <td>1.000000</td>\n",
       "      <td>1.000000</td>\n",
       "      <td>1.000000</td>\n",
       "      <td>1.000000</td>\n",
       "      <td>1.000000</td>\n",
       "      <td>1.000000</td>\n",
       "      <td>1.000000</td>\n",
       "      <td>1.000000</td>\n",
       "      <td>...</td>\n",
       "      <td>1.000000</td>\n",
       "      <td>1.000000</td>\n",
       "      <td>1.000000</td>\n",
       "      <td>1.000000</td>\n",
       "      <td>1.000000</td>\n",
       "      <td>1.000000</td>\n",
       "      <td>1.000000</td>\n",
       "      <td>1.000000</td>\n",
       "      <td>1.000000</td>\n",
       "      <td>1.000000</td>\n",
       "    </tr>\n",
       "  </tbody>\n",
       "</table>\n",
       "<p>8 rows × 23 columns</p>\n",
       "</div>"
      ],
      "text/plain": [
       "            months     multiple       gb_mon     security       backup  \\\n",
       "count  7043.000000  7043.000000  7043.000000  7043.000000  7043.000000   \n",
       "mean      0.350703     0.421837     0.241358     0.286668     0.344881   \n",
       "std       0.477224     0.493888     0.240223     0.452237     0.475363   \n",
       "min       0.000000     0.000000     0.000000     0.000000     0.000000   \n",
       "25%       0.000000     0.000000     0.035294     0.000000     0.000000   \n",
       "50%       0.000000     0.000000     0.200000     0.000000     0.000000   \n",
       "75%       1.000000     1.000000     0.317647     1.000000     1.000000   \n",
       "max       1.000000     1.000000     1.000000     1.000000     1.000000   \n",
       "\n",
       "        protection      support    unlimited     contract    paperless  ...  \\\n",
       "count  7043.000000  7043.000000  7043.000000  7043.000000  7043.000000  ...   \n",
       "mean      0.343888     0.290217     0.673719     0.512566     0.592219  ...   \n",
       "std       0.475038     0.453895     0.468885     0.499878     0.491457  ...   \n",
       "min       0.000000     0.000000     0.000000     0.000000     0.000000  ...   \n",
       "25%       0.000000     0.000000     0.000000     0.000000     0.000000  ...   \n",
       "50%       0.000000     0.000000     1.000000     1.000000     1.000000  ...   \n",
       "75%       1.000000     1.000000     1.000000     1.000000     1.000000  ...   \n",
       "max       1.000000     1.000000     1.000000     1.000000     1.000000  ...   \n",
       "\n",
       "       payment_Credit Card  payment_Mailed Check  internet_type_DSL  \\\n",
       "count          7043.000000           7043.000000        7043.000000   \n",
       "mean              0.390317              0.054664           0.234559   \n",
       "std               0.487856              0.227340           0.423753   \n",
       "min               0.000000              0.000000           0.000000   \n",
       "25%               0.000000              0.000000           0.000000   \n",
       "50%               0.000000              0.000000           0.000000   \n",
       "75%               1.000000              0.000000           0.000000   \n",
       "max               1.000000              1.000000           1.000000   \n",
       "\n",
       "       internet_type_Fiber Optic  internet_type_None  offer_Offer A  \\\n",
       "count                7043.000000         7043.000000    7043.000000   \n",
       "mean                    0.430924            0.216669       0.073832   \n",
       "std                     0.495241            0.412004       0.261516   \n",
       "min                     0.000000            0.000000       0.000000   \n",
       "25%                     0.000000            0.000000       0.000000   \n",
       "50%                     0.000000            0.000000       0.000000   \n",
       "75%                     1.000000            0.000000       0.000000   \n",
       "max                     1.000000            1.000000       1.000000   \n",
       "\n",
       "       offer_Offer B  offer_Offer C  offer_Offer D  offer_Offer E  \n",
       "count    7043.000000    7043.000000    7043.000000    7043.000000  \n",
       "mean        0.116996       0.058924       0.085475       0.114298  \n",
       "std         0.321438       0.235499       0.279607       0.318195  \n",
       "min         0.000000       0.000000       0.000000       0.000000  \n",
       "25%         0.000000       0.000000       0.000000       0.000000  \n",
       "50%         0.000000       0.000000       0.000000       0.000000  \n",
       "75%         0.000000       0.000000       0.000000       0.000000  \n",
       "max         1.000000       1.000000       1.000000       1.000000  \n",
       "\n",
       "[8 rows x 23 columns]"
      ]
     },
     "execution_count": 52,
     "metadata": {},
     "output_type": "execute_result"
    }
   ],
   "source": [
    "df.describe()"
   ]
  },
  {
   "cell_type": "markdown",
   "id": "42a455ab",
   "metadata": {},
   "source": [
    "### Scaling the numerical variables\n",
    "### Importing the MinMAx scalar function from sklearn"
   ]
  },
  {
   "cell_type": "code",
   "execution_count": 63,
   "id": "1ff0f219",
   "metadata": {},
   "outputs": [],
   "source": [
    "from sklearn.preprocessing import MinMaxScaler\n",
    "mm=MinMaxScaler()"
   ]
  },
  {
   "cell_type": "code",
   "execution_count": 64,
   "id": "7cf9e76c",
   "metadata": {},
   "outputs": [],
   "source": [
    "for column in [ordinal_variables+numeric_variables]:\n",
    "    df[column]=mm.fit_transform(df[column])"
   ]
  },
  {
   "cell_type": "markdown",
   "id": "25ef2954",
   "metadata": {},
   "source": [
    "### Descriptive statisctics of the data set after scaling all variables"
   ]
  },
  {
   "cell_type": "code",
   "execution_count": 65,
   "id": "7b74b570",
   "metadata": {},
   "outputs": [
    {
     "data": {
      "text/html": [
       "<div>\n",
       "<style scoped>\n",
       "    .dataframe tbody tr th:only-of-type {\n",
       "        vertical-align: middle;\n",
       "    }\n",
       "\n",
       "    .dataframe tbody tr th {\n",
       "        vertical-align: top;\n",
       "    }\n",
       "\n",
       "    .dataframe thead th {\n",
       "        text-align: right;\n",
       "    }\n",
       "</style>\n",
       "<table border=\"1\" class=\"dataframe\">\n",
       "  <thead>\n",
       "    <tr style=\"text-align: right;\">\n",
       "      <th></th>\n",
       "      <th>months</th>\n",
       "      <th>multiple</th>\n",
       "      <th>gb_mon</th>\n",
       "      <th>security</th>\n",
       "      <th>backup</th>\n",
       "      <th>protection</th>\n",
       "      <th>support</th>\n",
       "      <th>unlimited</th>\n",
       "      <th>contract</th>\n",
       "      <th>paperless</th>\n",
       "      <th>...</th>\n",
       "      <th>payment_Credit Card</th>\n",
       "      <th>payment_Mailed Check</th>\n",
       "      <th>internet_type_DSL</th>\n",
       "      <th>internet_type_Fiber Optic</th>\n",
       "      <th>internet_type_None</th>\n",
       "      <th>offer_Offer A</th>\n",
       "      <th>offer_Offer B</th>\n",
       "      <th>offer_Offer C</th>\n",
       "      <th>offer_Offer D</th>\n",
       "      <th>offer_Offer E</th>\n",
       "    </tr>\n",
       "  </thead>\n",
       "  <tbody>\n",
       "    <tr>\n",
       "      <th>count</th>\n",
       "      <td>7043.0000</td>\n",
       "      <td>7043.0000</td>\n",
       "      <td>7043.0000</td>\n",
       "      <td>7043.0000</td>\n",
       "      <td>7043.0000</td>\n",
       "      <td>7043.0000</td>\n",
       "      <td>7043.0000</td>\n",
       "      <td>7043.0000</td>\n",
       "      <td>7043.0000</td>\n",
       "      <td>7043.0000</td>\n",
       "      <td>...</td>\n",
       "      <td>7043.0000</td>\n",
       "      <td>7043.0000</td>\n",
       "      <td>7043.0000</td>\n",
       "      <td>7043.0000</td>\n",
       "      <td>7043.0000</td>\n",
       "      <td>7043.0000</td>\n",
       "      <td>7043.0000</td>\n",
       "      <td>7043.0000</td>\n",
       "      <td>7043.0000</td>\n",
       "      <td>7043.0000</td>\n",
       "    </tr>\n",
       "    <tr>\n",
       "      <th>mean</th>\n",
       "      <td>0.3507</td>\n",
       "      <td>0.4218</td>\n",
       "      <td>0.2414</td>\n",
       "      <td>0.2867</td>\n",
       "      <td>0.3449</td>\n",
       "      <td>0.3439</td>\n",
       "      <td>0.2902</td>\n",
       "      <td>0.6737</td>\n",
       "      <td>0.5126</td>\n",
       "      <td>0.5922</td>\n",
       "      <td>...</td>\n",
       "      <td>0.3903</td>\n",
       "      <td>0.0547</td>\n",
       "      <td>0.2346</td>\n",
       "      <td>0.4309</td>\n",
       "      <td>0.2167</td>\n",
       "      <td>0.0738</td>\n",
       "      <td>0.1170</td>\n",
       "      <td>0.0589</td>\n",
       "      <td>0.0855</td>\n",
       "      <td>0.1143</td>\n",
       "    </tr>\n",
       "    <tr>\n",
       "      <th>std</th>\n",
       "      <td>0.4772</td>\n",
       "      <td>0.4939</td>\n",
       "      <td>0.2402</td>\n",
       "      <td>0.4522</td>\n",
       "      <td>0.4754</td>\n",
       "      <td>0.4750</td>\n",
       "      <td>0.4539</td>\n",
       "      <td>0.4689</td>\n",
       "      <td>0.4999</td>\n",
       "      <td>0.4915</td>\n",
       "      <td>...</td>\n",
       "      <td>0.4879</td>\n",
       "      <td>0.2273</td>\n",
       "      <td>0.4238</td>\n",
       "      <td>0.4952</td>\n",
       "      <td>0.4120</td>\n",
       "      <td>0.2615</td>\n",
       "      <td>0.3214</td>\n",
       "      <td>0.2355</td>\n",
       "      <td>0.2796</td>\n",
       "      <td>0.3182</td>\n",
       "    </tr>\n",
       "    <tr>\n",
       "      <th>min</th>\n",
       "      <td>0.0000</td>\n",
       "      <td>0.0000</td>\n",
       "      <td>0.0000</td>\n",
       "      <td>0.0000</td>\n",
       "      <td>0.0000</td>\n",
       "      <td>0.0000</td>\n",
       "      <td>0.0000</td>\n",
       "      <td>0.0000</td>\n",
       "      <td>0.0000</td>\n",
       "      <td>0.0000</td>\n",
       "      <td>...</td>\n",
       "      <td>0.0000</td>\n",
       "      <td>0.0000</td>\n",
       "      <td>0.0000</td>\n",
       "      <td>0.0000</td>\n",
       "      <td>0.0000</td>\n",
       "      <td>0.0000</td>\n",
       "      <td>0.0000</td>\n",
       "      <td>0.0000</td>\n",
       "      <td>0.0000</td>\n",
       "      <td>0.0000</td>\n",
       "    </tr>\n",
       "    <tr>\n",
       "      <th>25%</th>\n",
       "      <td>0.0000</td>\n",
       "      <td>0.0000</td>\n",
       "      <td>0.0353</td>\n",
       "      <td>0.0000</td>\n",
       "      <td>0.0000</td>\n",
       "      <td>0.0000</td>\n",
       "      <td>0.0000</td>\n",
       "      <td>0.0000</td>\n",
       "      <td>0.0000</td>\n",
       "      <td>0.0000</td>\n",
       "      <td>...</td>\n",
       "      <td>0.0000</td>\n",
       "      <td>0.0000</td>\n",
       "      <td>0.0000</td>\n",
       "      <td>0.0000</td>\n",
       "      <td>0.0000</td>\n",
       "      <td>0.0000</td>\n",
       "      <td>0.0000</td>\n",
       "      <td>0.0000</td>\n",
       "      <td>0.0000</td>\n",
       "      <td>0.0000</td>\n",
       "    </tr>\n",
       "    <tr>\n",
       "      <th>50%</th>\n",
       "      <td>0.0000</td>\n",
       "      <td>0.0000</td>\n",
       "      <td>0.2000</td>\n",
       "      <td>0.0000</td>\n",
       "      <td>0.0000</td>\n",
       "      <td>0.0000</td>\n",
       "      <td>0.0000</td>\n",
       "      <td>1.0000</td>\n",
       "      <td>1.0000</td>\n",
       "      <td>1.0000</td>\n",
       "      <td>...</td>\n",
       "      <td>0.0000</td>\n",
       "      <td>0.0000</td>\n",
       "      <td>0.0000</td>\n",
       "      <td>0.0000</td>\n",
       "      <td>0.0000</td>\n",
       "      <td>0.0000</td>\n",
       "      <td>0.0000</td>\n",
       "      <td>0.0000</td>\n",
       "      <td>0.0000</td>\n",
       "      <td>0.0000</td>\n",
       "    </tr>\n",
       "    <tr>\n",
       "      <th>75%</th>\n",
       "      <td>1.0000</td>\n",
       "      <td>1.0000</td>\n",
       "      <td>0.3176</td>\n",
       "      <td>1.0000</td>\n",
       "      <td>1.0000</td>\n",
       "      <td>1.0000</td>\n",
       "      <td>1.0000</td>\n",
       "      <td>1.0000</td>\n",
       "      <td>1.0000</td>\n",
       "      <td>1.0000</td>\n",
       "      <td>...</td>\n",
       "      <td>1.0000</td>\n",
       "      <td>0.0000</td>\n",
       "      <td>0.0000</td>\n",
       "      <td>1.0000</td>\n",
       "      <td>0.0000</td>\n",
       "      <td>0.0000</td>\n",
       "      <td>0.0000</td>\n",
       "      <td>0.0000</td>\n",
       "      <td>0.0000</td>\n",
       "      <td>0.0000</td>\n",
       "    </tr>\n",
       "    <tr>\n",
       "      <th>max</th>\n",
       "      <td>1.0000</td>\n",
       "      <td>1.0000</td>\n",
       "      <td>1.0000</td>\n",
       "      <td>1.0000</td>\n",
       "      <td>1.0000</td>\n",
       "      <td>1.0000</td>\n",
       "      <td>1.0000</td>\n",
       "      <td>1.0000</td>\n",
       "      <td>1.0000</td>\n",
       "      <td>1.0000</td>\n",
       "      <td>...</td>\n",
       "      <td>1.0000</td>\n",
       "      <td>1.0000</td>\n",
       "      <td>1.0000</td>\n",
       "      <td>1.0000</td>\n",
       "      <td>1.0000</td>\n",
       "      <td>1.0000</td>\n",
       "      <td>1.0000</td>\n",
       "      <td>1.0000</td>\n",
       "      <td>1.0000</td>\n",
       "      <td>1.0000</td>\n",
       "    </tr>\n",
       "  </tbody>\n",
       "</table>\n",
       "<p>8 rows × 23 columns</p>\n",
       "</div>"
      ],
      "text/plain": [
       "          months   multiple     gb_mon   security     backup  protection  \\\n",
       "count  7043.0000  7043.0000  7043.0000  7043.0000  7043.0000   7043.0000   \n",
       "mean      0.3507     0.4218     0.2414     0.2867     0.3449      0.3439   \n",
       "std       0.4772     0.4939     0.2402     0.4522     0.4754      0.4750   \n",
       "min       0.0000     0.0000     0.0000     0.0000     0.0000      0.0000   \n",
       "25%       0.0000     0.0000     0.0353     0.0000     0.0000      0.0000   \n",
       "50%       0.0000     0.0000     0.2000     0.0000     0.0000      0.0000   \n",
       "75%       1.0000     1.0000     0.3176     1.0000     1.0000      1.0000   \n",
       "max       1.0000     1.0000     1.0000     1.0000     1.0000      1.0000   \n",
       "\n",
       "         support  unlimited   contract  paperless  ...  payment_Credit Card  \\\n",
       "count  7043.0000  7043.0000  7043.0000  7043.0000  ...            7043.0000   \n",
       "mean      0.2902     0.6737     0.5126     0.5922  ...               0.3903   \n",
       "std       0.4539     0.4689     0.4999     0.4915  ...               0.4879   \n",
       "min       0.0000     0.0000     0.0000     0.0000  ...               0.0000   \n",
       "25%       0.0000     0.0000     0.0000     0.0000  ...               0.0000   \n",
       "50%       0.0000     1.0000     1.0000     1.0000  ...               0.0000   \n",
       "75%       1.0000     1.0000     1.0000     1.0000  ...               1.0000   \n",
       "max       1.0000     1.0000     1.0000     1.0000  ...               1.0000   \n",
       "\n",
       "       payment_Mailed Check  internet_type_DSL  internet_type_Fiber Optic  \\\n",
       "count             7043.0000          7043.0000                  7043.0000   \n",
       "mean                 0.0547             0.2346                     0.4309   \n",
       "std                  0.2273             0.4238                     0.4952   \n",
       "min                  0.0000             0.0000                     0.0000   \n",
       "25%                  0.0000             0.0000                     0.0000   \n",
       "50%                  0.0000             0.0000                     0.0000   \n",
       "75%                  0.0000             0.0000                     1.0000   \n",
       "max                  1.0000             1.0000                     1.0000   \n",
       "\n",
       "       internet_type_None  offer_Offer A  offer_Offer B  offer_Offer C  \\\n",
       "count           7043.0000      7043.0000      7043.0000      7043.0000   \n",
       "mean               0.2167         0.0738         0.1170         0.0589   \n",
       "std                0.4120         0.2615         0.3214         0.2355   \n",
       "min                0.0000         0.0000         0.0000         0.0000   \n",
       "25%                0.0000         0.0000         0.0000         0.0000   \n",
       "50%                0.0000         0.0000         0.0000         0.0000   \n",
       "75%                0.0000         0.0000         0.0000         0.0000   \n",
       "max                1.0000         1.0000         1.0000         1.0000   \n",
       "\n",
       "       offer_Offer D  offer_Offer E  \n",
       "count      7043.0000      7043.0000  \n",
       "mean          0.0855         0.1143  \n",
       "std           0.2796         0.3182  \n",
       "min           0.0000         0.0000  \n",
       "25%           0.0000         0.0000  \n",
       "50%           0.0000         0.0000  \n",
       "75%           0.0000         0.0000  \n",
       "max           1.0000         1.0000  \n",
       "\n",
       "[8 rows x 23 columns]"
      ]
     },
     "execution_count": 65,
     "metadata": {},
     "output_type": "execute_result"
    }
   ],
   "source": [
    "round(df.describe(),4)"
   ]
  },
  {
   "cell_type": "markdown",
   "id": "eeda5704",
   "metadata": {},
   "source": [
    "### The preprocessing of the data has been done\n",
    "### Now we should save the processed data for the later use"
   ]
  },
  {
   "cell_type": "code",
   "execution_count": 66,
   "id": "9f8f0e59",
   "metadata": {},
   "outputs": [],
   "source": [
    "outputfile='churndata_processes.csv'\n",
    "df.to_csv(outputfile,index=False)"
   ]
  },
  {
   "cell_type": "markdown",
   "id": "251dca31",
   "metadata": {},
   "source": [
    "### Divide the data into training and test set\n",
    "### Fit the K nearest Neighborhood model\n",
    "### Classification performance metrics"
   ]
  },
  {
   "cell_type": "markdown",
   "id": "00eeaa89",
   "metadata": {},
   "source": [
    "### Import the libraries"
   ]
  },
  {
   "cell_type": "code",
   "execution_count": 172,
   "id": "7681550c",
   "metadata": {},
   "outputs": [],
   "source": [
    "from sklearn.model_selection import train_test_split\n",
    "from sklearn.neighbors import KNeighborsClassifier\n",
    "from sklearn.metrics import confusion_matrix, accuracy_score,classification_report,f1_score"
   ]
  },
  {
   "cell_type": "markdown",
   "id": "21606416",
   "metadata": {},
   "source": [
    "### Setting up the covariates matrix X and the response vector y from the data set\n",
    "### Then divide the dataset into train and test data sets"
   ]
  },
  {
   "cell_type": "code",
   "execution_count": 189,
   "id": "ea050ece",
   "metadata": {},
   "outputs": [],
   "source": [
    "X,y=df.drop(columns='churn_value'),df['churn_value']\n",
    "X_train,X_test,y_train,y_test=train_test_split(X,y,test_size=0.4,random_state=1000)"
   ]
  },
  {
   "cell_type": "markdown",
   "id": "0ce4daa5",
   "metadata": {},
   "source": [
    "### Fit the KNN model"
   ]
  },
  {
   "cell_type": "code",
   "execution_count": 190,
   "id": "b94cad77",
   "metadata": {},
   "outputs": [],
   "source": [
    "knn=KNeighborsClassifier(n_neighbors=3)\n",
    "knn_fit=knn.fit(X_train,y_train)\n",
    "y_pred=knn_fit.predict(X_test) # Predict y for the test data set"
   ]
  },
  {
   "cell_type": "markdown",
   "id": "3ca469fc",
   "metadata": {},
   "source": [
    "### Print the classification report\n",
    "### Print f1 score\n",
    "### Print accuracy score"
   ]
  },
  {
   "cell_type": "code",
   "execution_count": 191,
   "id": "c899eebd",
   "metadata": {},
   "outputs": [
    {
     "name": "stdout",
     "output_type": "stream",
     "text": [
      "              precision    recall  f1-score   support\n",
      "\n",
      "           0       0.88      0.92      0.90      2063\n",
      "           1       0.74      0.64      0.69       755\n",
      "\n",
      "    accuracy                           0.84      2818\n",
      "   macro avg       0.81      0.78      0.79      2818\n",
      "weighted avg       0.84      0.84      0.84      2818\n",
      "\n",
      "Accuracy score 0.844\n",
      "F1 score 0.689\n"
     ]
    }
   ],
   "source": [
    "print(classification_report(y_test,y_pred))\n",
    "print('Accuracy score',round(accuracy_score(y_test,y_pred),3))\n",
    "print('F1 score',round(f1_score(y_test,y_pred),3))"
   ]
  },
  {
   "cell_type": "markdown",
   "id": "637318d6",
   "metadata": {},
   "source": [
    "### Confusion matrix"
   ]
  },
  {
   "cell_type": "code",
   "execution_count": 192,
   "id": "fdf4711a",
   "metadata": {},
   "outputs": [
    {
     "data": {
      "text/plain": [
       "array([[1893,  170],\n",
       "       [ 269,  486]], dtype=int64)"
      ]
     },
     "execution_count": 192,
     "metadata": {},
     "output_type": "execute_result"
    }
   ],
   "source": [
    "confusion_matrix(y_test,y_pred)"
   ]
  },
  {
   "cell_type": "code",
   "execution_count": 193,
   "id": "d1eb64b7",
   "metadata": {},
   "outputs": [
    {
     "data": {
      "text/plain": [
       "Text(94.5, 0.5, 'Actual Response')"
      ]
     },
     "execution_count": 193,
     "metadata": {},
     "output_type": "execute_result"
    },
    {
     "data": {
      "image/png": "[encoded data removed]",
      "text/plain": [
       "<Figure size 1008x720 with 2 Axes>"
      ]
     },
     "metadata": {},
     "output_type": "display_data"
    }
   ],
   "source": [
    "sns.color_palette()\n",
    "_,ax=plt.subplots(figsize=(14,10))\n",
    "ax=sns.heatmap(confusion_matrix(y_test,y_pred),annot=True,fmt='d',annot_kws={'size':40,'weight':'bold'})\n",
    "labels=['not churn','churn']\n",
    "ax.set_xticklabels(labels,fontsize=30)\n",
    "ax.set_yticklabels(labels,fontsize=30)\n",
    "ax.set_xlabel('Prediction',fontsize=35)\n",
    "ax.set_ylabel('Actual Response', fontsize=35)"
   ]
  },
  {
   "cell_type": "markdown",
   "id": "a1697d57",
   "metadata": {},
   "source": [
    "### Now we need to determinr the optimal value of k\n"
   ]
  },
  {
   "cell_type": "code",
   "execution_count": 194,
   "id": "5f66e929",
   "metadata": {},
   "outputs": [],
   "source": [
    "## fit the model for all k where the max_k=50\n",
    "max_k=50\n",
    "f1_scores=list() ## space for storing hte f1 scores for different k values\n",
    "error_rates=list()  ## space for storing the error rates for all k values, error=1-accuracy\n",
    "for k in range(1,max_k):\n",
    "    knn=KNeighborsClassifier(n_neighbors=k,weights='distance')\n",
    "    knn_fit=knn.fit(X_train,y_train)\n",
    "    y_pred=knn_fit.predict(X_test)\n",
    "    f1=f1_score(y_test,y_pred)\n",
    "    f1_scores.append((k,round(f1,4)))\n",
    "    error=1-round(accuracy_score(y_test,y_pred),4)\n",
    "    error_rates.append((k,error))\n",
    "f1_results=pd.DataFrame(f1_scores,columns=['K','F1 Score'])\n",
    "error_results=pd.DataFrame(error_rates,columns=['K','Error Rate'])"
   ]
  },
  {
   "cell_type": "markdown",
   "id": "776e45f7",
   "metadata": {},
   "source": [
    "### Now plot the F1 scores for found for all the values of k"
   ]
  },
  {
   "cell_type": "code",
   "execution_count": 195,
   "id": "57b6ca71",
   "metadata": {},
   "outputs": [
    {
     "data": {
      "text/plain": [
       "<Figure size 1500x1000 with 0 Axes>"
      ]
     },
     "metadata": {},
     "output_type": "display_data"
    },
    {
     "data": {
      "image/png": "[encoded data removed]",
      "text/plain": [
       "<Figure size 1008x576 with 1 Axes>"
      ]
     },
     "metadata": {},
     "output_type": "display_data"
    }
   ],
   "source": [
    "sns.set_context('talk')\n",
    "sns.set_style('ticks')\n",
    "plt.figure(dpi=250);\n",
    "ax=f1_results.set_index('K').plot(figsize=(14,8),linewidth=3);\n",
    "ax.set(xlabel='K',ylabel='F1 Score');\n",
    "ax.set_xticks(range(1,max_k,5));\n",
    "plt.title('KNN F1 Score');"
   ]
  },
  {
   "cell_type": "code",
   "execution_count": 196,
   "id": "2bd850f8",
   "metadata": {},
   "outputs": [
    {
     "data": {
      "text/plain": [
       "<Figure size 1500x1000 with 0 Axes>"
      ]
     },
     "metadata": {},
     "output_type": "display_data"
    },
    {
     "data": {
      "image/png": "[encoded data removed]",
      "text/plain": [
       "<Figure size 1008x576 with 1 Axes>"
      ]
     },
     "metadata": {},
     "output_type": "display_data"
    }
   ],
   "source": [
    "\n",
    "sns.set_context('talk')\n",
    "sns.set_style('ticks')\n",
    "plt.figure(dpi=250);\n",
    "ax=error_results.set_index('K').plot(figsize=(14,8),linewidth=3);\n",
    "ax.set(xlabel='K',ylabel='Error Rate');\n",
    "ax.set_xticks(range(1,max_k,5));\n",
    "plt.title('KNN Error Rate');"
   ]
  },
  {
   "cell_type": "raw",
   "id": "6b485d90",
   "metadata": {},
   "source": [
    "### From the above two plots we can consider optimal k=33"
   ]
  },
  {
   "cell_type": "raw",
   "id": "6576b1e6",
   "metadata": {},
   "source": []
  },
  {
   "cell_type": "code",
   "execution_count": 227,
   "id": "a7c84979",
   "metadata": {},
   "outputs": [],
   "source": [
    "knn=KNeighborsClassifier(n_neighbors=33)\n",
    "knn_fit=knn.fit(X_train,y_train)\n",
    "y_pred=knn_fit.predict(X_test) # Predict y for the test data set"
   ]
  },
  {
   "cell_type": "code",
   "execution_count": 228,
   "id": "71ca16ee",
   "metadata": {
    "scrolled": true
   },
   "outputs": [
    {
     "name": "stdout",
     "output_type": "stream",
     "text": [
      "              precision    recall  f1-score   support\n",
      "\n",
      "           0       0.88      0.94      0.91      2063\n",
      "           1       0.80      0.64      0.72       755\n",
      "\n",
      "    accuracy                           0.86      2818\n",
      "   macro avg       0.84      0.79      0.81      2818\n",
      "weighted avg       0.86      0.86      0.86      2818\n",
      "\n",
      "Accuracy score 0.863\n",
      "F1 score 0.715\n"
     ]
    }
   ],
   "source": [
    "print(classification_report(y_test,y_pred))\n",
    "print('Accuracy score',round(accuracy_score(y_test,y_pred),3))\n",
    "print('F1 score',round(f1_score(y_test,y_pred),3))"
   ]
  },
  {
   "cell_type": "code",
   "execution_count": 229,
   "id": "02104ea7",
   "metadata": {},
   "outputs": [
    {
     "data": {
      "text/plain": [
       "Text(94.5, 0.5, 'Actual Response')"
      ]
     },
     "execution_count": 229,
     "metadata": {},
     "output_type": "execute_result"
    },
    {
     "data": {
      "image/png": "[encoded data removed]",
      "text/plain": [
       "<Figure size 1008x720 with 2 Axes>"
      ]
     },
     "metadata": {},
     "output_type": "display_data"
    }
   ],
   "source": [
    "sns.color_palette()\n",
    "_,ax=plt.subplots(figsize=(14,10))\n",
    "ax=sns.heatmap(confusion_matrix(y_test,y_pred),annot=True,fmt='d',annot_kws={'size':40,'weight':'bold'})\n",
    "labels=['not churn','churn']\n",
    "ax.set_xticklabels(labels,fontsize=30)\n",
    "ax.set_yticklabels(labels,fontsize=30)\n",
    "ax.set_xlabel('Prediction',fontsize=35)\n",
    "ax.set_ylabel('Actual Response', fontsize=35)"
   ]
  },
  {
   "cell_type": "code",
   "execution_count": null,
   "id": "4d80a05f",
   "metadata": {},
   "outputs": [],
   "source": []
  },
  {
   "cell_type": "code",
   "execution_count": null,
   "id": "141db48d",
   "metadata": {},
   "outputs": [],
   "source": []
  }
 ],
 "metadata": {
  "kernelspec": {
   "display_name": "Python 3 (ipykernel)",
   "language": "python",
   "name": "python3"
  },
  "language_info": {
   "codemirror_mode": {
    "name": "ipython",
    "version": 3
   },
   "file_extension": ".py",
   "mimetype": "text/x-python",
   "name": "python",
   "nbconvert_exporter": "python",
   "pygments_lexer": "ipython3",
   "version": "3.9.7"
  }
 },
 "nbformat": 4,
 "nbformat_minor": 5
}
